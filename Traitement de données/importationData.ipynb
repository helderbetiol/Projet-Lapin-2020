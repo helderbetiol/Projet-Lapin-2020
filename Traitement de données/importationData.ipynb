{
 "cells": [
  {
   "cell_type": "markdown",
   "metadata": {},
   "source": [
    "# Importation de la data et division par injection"
   ]
  },
  {
   "source": [
    "A faire : Améliorer la lecture de la sortie car c'est pas super clair. pas utile de faire tout le dossier direct ?"
   ],
   "cell_type": "markdown",
   "metadata": {}
  },
  {
   "cell_type": "markdown",
   "metadata": {},
   "source": [
    "### Fonction dir_exists\n",
    "\n",
    "_dir_exists(path, directory)_\n",
    "\n",
    "Définition d'une fonction pour créer automatiquement les dossier pour sauvegarder les données. Elle scane le directoire _path_ et récuper tous les dossiers. Après elle cherche le dossier _directory_ et s'il n'existe pas, elle le crée.\n"
   ]
  },
  {
   "cell_type": "code",
   "execution_count": 32,
   "metadata": {
    "tags": []
   },
   "outputs": [],
   "source": [
    "# Imports utiles \n",
    "\n",
    "import os\n",
    "import io\n",
    "import pandas as pd\n",
    "\n",
    "\n",
    "def dir_exists(path, directory):\n",
    "    with os.scandir(path) as temp:    #Cherche tous les dossiers dans path\n",
    "        dir_list = [direc.name for direc in temp if os.path.isdir(direc)]    #Crée une liste avec les dossiers\n",
    "    path_sortie = path + directory + \"\\\\\"    #Unifie le chemin path et directory\n",
    "    if not(directory in dir_list):    #Si directory n'existe pas dans path il est créé\n",
    "        os.mkdir(path_sortie)\n",
    "    return path_sortie"
   ]
  },
  {
   "cell_type": "markdown",
   "metadata": {},
   "source": [
    "### Function de sauvegardage de fichiers"
   ]
  },
  {
   "cell_type": "code",
   "execution_count": 33,
   "metadata": {},
   "outputs": [],
   "source": [
    "def save_file(content, path, name):\n",
    "    \n",
    "    new_file = io.StringIO(content) # Transformation du string en IO\n",
    "    new_df = pd.read_table(new_file, decimal = \",\") # Création de la dataframe à partir de l'IO\n",
    "    new_df.to_csv(path + name) # On enregistre la dataframe sous forme d'un fichier csv, dans le dossier de sortie"
   ]
  },
  {
   "cell_type": "markdown",
   "metadata": {},
   "source": [
    "### Préparation"
   ]
  },
  {
   "cell_type": "code",
   "execution_count": 34,
   "metadata": {},
   "outputs": [],
   "source": [
    "# On renseigne les paths, pour que le code trouve les bons fichiers et dépose les fichiers au bon endroit\n",
    "path1 = os.getcwd()  # Il obtien le dossier courant\n",
    "path_entree = path1 + \"\\\\data\\\\data-groupes\\\\\"  # Le dossier avec les fichiers d'entrée doit s'appeler : ./data/data-groupes/\n",
    "path_data_output = path1 + \"\\\\data\\\\\"  #Le dossier de sortie se trouvera sur : ./data/\n",
    "title = \"Temps\\tPressionArterielle\\tSpirometrie\\tPAmoyenne\\tFrequenceCardiaque\\tFrequenceRespiratoire\\tRemarque\\n\"  # L'en-tête de tous les fichiers\n",
    "\n",
    "if not(os.path.isdir(path_entree)):  #Si le dossier d'entrée n'existe pas, il ferme le program\n",
    "    print(f\"There is not folder {path_entree} with the files to process. The program will finish\")\n",
    "    exit()\n",
    "else:  #Sinon, l'algorithme récupère tous les fichiers à l'intérieur du dossier d'entrée\n",
    "     with os.scandir(path_entree) as temp:\n",
    "        file_list = [file.name for file in temp if os.path.isfile(file)]\n",
    "        "
   ]
  },
  {
   "cell_type": "markdown",
   "metadata": {},
   "source": [
    "### On parcours le dossier et aussi chaque fichier, on le divise par injection (ou essaie dans le cas où il y aurait eu la nécessité de faire plusieurs essais) et on l'exporte dans le path_sortie"
   ]
  },
  {
   "cell_type": "code",
   "execution_count": 39,
   "metadata": {},
   "outputs": [
    {
     "name": "stdout",
     "output_type": "stream",
     "text": [
      "On a une nouvelle essai !\n",
      "On a une nouvelle essai !\n",
      "On a une nouvelle essai !\n",
      "On a une nouvelle essai !\n",
      "On a une nouvelle injection !\n",
      "b'* debut \\n'\n",
      "2\n",
      "9\n",
      "On a une nouvelle injection !\n",
      "b'* acetylcholine \\n'\n",
      "2\n",
      "17\n"
     ]
    },
    {
     "name": "stderr",
     "output_type": "stream",
     "text": [
      "C:\\ProgramData\\Anaconda3\\lib\\site-packages\\IPython\\core\\interactiveshell.py:2903: DtypeWarning: Columns (6) have mixed types. Specify dtype option on import or set low_memory=False.\n",
      "  if self.run_code(code, result):\n"
     ]
    },
    {
     "name": "stdout",
     "output_type": "stream",
     "text": [
      "On a une nouvelle injection !\n",
      "b'* adre \\n'\n",
      "2\n",
      "8\n",
      "On a une nouvelle injection !\n",
      "b'* hypercapnie \\n'\n",
      "2\n",
      "15\n",
      "On a une nouvelle injection !\n",
      "b'* hypercapnie \\n'\n",
      "2\n",
      "15\n",
      "On a une nouvelle injection !\n",
      "b'2 debranche respi \\n'\n",
      "2\n",
      "19\n",
      "On a une nouvelle injection !\n",
      "b'2 rebranche respi \\n'\n",
      "2\n",
      "19\n",
      "On a une nouvelle injection !\n",
      "b'* nf vague 1 \\n'\n",
      "2\n",
      "14\n",
      "On a une nouvelle injection !\n",
      "b'* nf vague 1 \\n'\n",
      "2\n",
      "14\n",
      "On a une nouvelle injection !\n",
      "b'* euthanasie \\n'\n",
      "2\n",
      "14\n"
     ]
    }
   ],
   "source": [
    "# On ouvre le fichier d'entrée\n",
    "for element in file_list:\n",
    "    file = open(path_entree + element, 'r')  #On ouvre un fichier à la fois, entre ceux qui se trouvent au path_entrée\n",
    "    file_name = element.rsplit(\".\", 1)[0]  # On récupère le nom du fichier sans l'extension (.txt, etc)\n",
    "    path_sortie = dir_exists(path_data_output, file_name)  #On crée un dossier pour mettre les fichiers de sortie\n",
    "    num_essai = 0  #Nombre d'essais dans le cas où la pratique n'aurait pas commencé à la première fois\n",
    "    num_injection = 0  \n",
    "    new_string = title  #Initialization d'un nouveau fichier avec l'en-tête des variables (le titre)\n",
    "    injection_name = \"Début\"  #La première injection s'appelle Début, mais ne répresente pas une injection réelle\n",
    "    finish_string = False  #C'est un état pour savoir quand plusieurs lignes non numériques continues sont passées\n",
    "\n",
    "    # On effectue une boucle sur les lignes du fichier ; on rajoute les lignes au fur et à mesure à new_string, et quand il y a un # on enregistre\n",
    "\n",
    "    for ligne in file:\n",
    "        \n",
    "        if ligne[0].isalpha():  #Si le premier élément de la ligne n'est pas un character numérique, il ne faut pas que l'on prend ce ligne là\n",
    "            \n",
    "            if finish_string:   #Si la dernière ligne était numérique, ce paramètre est True, ce qui marque la fin d'un essai\n",
    "                \n",
    "                print(\"On a une nouvelle essai !\")\n",
    "\n",
    "                new_path = f\"{file_name}_Seq{num_injection}_{injection_name}_Essai{num_essai}.csv\"  #C'est le nom du fichier\n",
    "                save_file(new_string, path_sortie, new_path)  #Cela permet de sauvegarder le fichier, qui dans ce cas ici c'est un essai de commencer le TP\n",
    "\n",
    "                #on réinitialise le string\n",
    "                new_string = title \n",
    "                num_essai += 1  #On augmente le nombre d'essais pour savoir combien d'essais on a fait avant de faire le test complet\n",
    "                finish_string = False   #On remet l'état à False pour éviter que dans la prochaine ligne non numérique, l'algo sauvegarde la ligne\n",
    "\n",
    "        else:\n",
    "\n",
    "            if \"#\" in ligne: #Si nouvelle injection : on enregistre tout ce qu'il s'est passé depuis la dernière dans un nouveau fichier\n",
    "\n",
    "                print(\"On a une nouvelle injection !\")\n",
    "                \n",
    "                injection = ligne.rpartition(\"#\")[-1]  #On récupère le nom de l'injection après le #\n",
    "                print(injection.encode())\n",
    "                char_injection = [i for i in injection if i.isalpha()]  #On obtien le characters alphabetiques\n",
    "                print(injection.find(char_injection[0]))\n",
    "                print(len(injection))\n",
    "                injection_name = injection[injection.find(char_injection[0]):len(injection)].rstrip(\" \\n\")  #On récupère le nom de l'injection sans characters spécials\n",
    "                \n",
    "                new_path = f\"{file_name}_Seq{num_injection}_{injection_name}_Essai{num_essai}.csv\"  #C'est le nom du fichier\n",
    "                save_file(new_string, path_sortie, new_path)  #On sauvegarde le fichier\n",
    "\n",
    "                #on réinitialise le string\n",
    "                new_string = title\n",
    "                num_injection += 1\n",
    "\n",
    "            new_string += ligne # On ajoute la ligne au string\n",
    "            finish_string = True  #On remet l'état à True pour assurer que dans la prochaine ligne non numérique, elle soit sauvegardé comme un essai\n",
    "\n"
   ]
  },
  {
   "cell_type": "code",
   "execution_count": null,
   "metadata": {},
   "outputs": [],
   "source": []
  }
 ],
 "metadata": {
  "kernelspec": {
   "display_name": "Python 3",
   "language": "python",
   "name": "python3"
  },
  "language_info": {
   "codemirror_mode": {
    "name": "ipython",
    "version": 3
   },
   "file_extension": ".py",
   "mimetype": "text/x-python",
   "name": "python",
   "nbconvert_exporter": "python",
   "pygments_lexer": "ipython3",
   "version": "3.6.5"
  }
 },
 "nbformat": 4,
 "nbformat_minor": 2
}